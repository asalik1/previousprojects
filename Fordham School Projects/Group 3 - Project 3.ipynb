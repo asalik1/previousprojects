{
 "cells": [
  {
   "cell_type": "markdown",
   "metadata": {},
   "source": [
    "# Team Project 3 - Solving a System of Linear Equations\n",
    "\n",
    "In this project, we compare the performance of three different methods of solving a system of linear equations. The lesson that I hope you may get is that finding an efficient method is not an unneccessary complication.\n",
    "\n",
    "For this project, <b>DO NOT</b> use the 'solve' method in the linear algebra package! You have to make your own code for it. "
   ]
  },
  {
   "cell_type": "markdown",
   "metadata": {},
   "source": [
    "#### 1. (10 pts) Create a function randmat(n) which returns a random square matrix constructed as the following recipe. \n",
    "<ul>\n",
    "    <li>The size of the matrix is $n \\times n$.</li>\n",
    "    <li>Each off-diagonal entry ($a_{ij}$ where $i \\ne j$) is a random number in $[0, 1)$. A random number can be constructed by the random method (see <a href=\"https://docs.scipy.org/doc/numpy/reference/routines.random.html\">here</a>).</li>\n",
    "    <li>A diagonal entry $a_{ii}$ is a random number in $[n, n+1)$. (This condition guarantees that the matrix $(a_{ij})$ is strictly diagonally dominant, hence invertible.)</li>\n",
    "</ul>\n",
    "\n",
    "#### And create a function randvec(n) which returns an $n$-dimensional random vector whose entries are random numbers in $[0, 100)$. "
   ]
  },
  {
   "cell_type": "code",
   "execution_count": 46,
   "metadata": {},
   "outputs": [
    {
     "name": "stdout",
     "output_type": "stream",
     "text": [
      "A =  [[4.13783224 0.20509709 0.04689382 0.41850358]\n",
      " [0.99017811 4.83702598 0.5074731  0.34670836]\n",
      " [0.51975911 0.06499233 4.54585651 0.44653201]\n",
      " [0.06325019 0.93189435 0.86240677 4.85250391]]\n",
      "b =  [95.3736683  31.28813849 23.96749767 37.33434112]\n"
     ]
    }
   ],
   "source": [
    "import numpy as np\n",
    "\n",
    "def randmat(n):\n",
    "    mat = np.random.rand(n, n)\n",
    "    for i in range(n):\n",
    "        mat[i][i] += n\n",
    "    return mat\n",
    "\n",
    "def randvec(n):\n",
    "    arr = 100*np.random.rand(n)\n",
    "    return arr\n",
    "\n",
    "A = randmat(4)\n",
    "b = randvec(4)\n",
    "print(\"A = \", A)\n",
    "print(\"b = \", b)"
   ]
  },
  {
   "cell_type": "markdown",
   "metadata": {},
   "source": [
    "#### 2. (10 pts) Create a function GaussElim(A, b) which solves a system of linear equations $Ax = b$ by using Gaussian Elimination with the partial pivoting."
   ]
  },
  {
   "cell_type": "code",
   "execution_count": 47,
   "metadata": {
    "scrolled": true
   },
   "outputs": [
    {
     "name": "stdout",
     "output_type": "stream",
     "text": [
      "[[ 4.13783224e+00  2.05097091e-01  4.68938157e-02  4.18503583e-01]\n",
      " [ 0.00000000e+00  4.78794650e+00  4.96251467e-01  2.46560974e-01]\n",
      " [ 0.00000000e+00 -6.93889390e-18  4.53590010e+00  3.91942980e-01]\n",
      " [ 0.00000000e+00  1.17093014e-18  0.00000000e+00  4.73213926e+00]]\n",
      "[[4.13783224 0.20509709 0.04689382 0.41850358]\n",
      " [0.99017811 4.83702598 0.5074731  0.34670836]\n",
      " [0.51975911 0.06499233 4.54585651 0.44653201]\n",
      " [0.06325019 0.93189435 0.86240677 4.85250391]]\n",
      "[21.918953588450243, 5.651488773515014, 4.602229426450809, 7.889527131874038]\n",
      "[95.3736683  54.1109386  36.20388021 48.90592356]\n"
     ]
    }
   ],
   "source": [
    "def swapRow(r1, r2):\n",
    "    temp = r1\n",
    "    r1 = r2\n",
    "    r2 = temp\n",
    "\n",
    "def GaussElim(A, b):\n",
    "    size = len(A)\n",
    "    x = []\n",
    "    for j in range(size):\n",
    "        maxVal = A[j][j]\n",
    "        maxRow = j\n",
    "        for i in range(j, size):\n",
    "            if abs(A[i][j]) > maxVal:\n",
    "                maxRow = i\n",
    "        swapRow(A[maxRow], A[j])\n",
    "        for i in range(j+1, size):\n",
    "            A[i] -= (A[i][j]/A[j][j])*(A[j])\n",
    "#     print(A)\n",
    "#     print(b)\n",
    "    for j in range(size):\n",
    "        xn = b[size-j-1]/A[size-j-1][size-j-1]\n",
    "        x.append(xn)\n",
    "        for i in range(size-j-1):\n",
    "            b[i] -= A[i][size-j-1]*xn       \n",
    "    return x[::-1]\n",
    "\n",
    "# Testing part\n",
    "C = randmat(4)\n",
    "for i in range(4):\n",
    "    for j in range(4):\n",
    "        C[i,j] = A[i,j]\n",
    "x = GaussElim(A, b)\n",
    "print(A)\n",
    "print(C)\n",
    "print(x)\n",
    "print(np.matmul(C,x))"
   ]
  },
  {
   "cell_type": "markdown",
   "metadata": {},
   "source": [
    "#### 3. (10 pts) Create a function Jacobi(A, b, err) which solves a system of linear equations $Ax = b$ by using Jacobi interation method. Set $x^{(0)} = \\vec{0}$. We stop the iteration when the estimation of the error $||x^{(k)} - x^{(k-1)}||_\\infty$ is less than err or $k = 1000$. (Here $x^{(k)}$ is the $k$-th output of the iteration)."
   ]
  },
  {
   "cell_type": "code",
   "execution_count": 48,
   "metadata": {},
   "outputs": [
    {
     "name": "stdout",
     "output_type": "stream",
     "text": [
      "[[4.13783224 0.20509709 0.04689382 0.41850358]\n",
      " [0.99017811 4.83702598 0.5074731  0.34670836]\n",
      " [0.51975911 0.06499233 4.54585651 0.44653201]\n",
      " [0.06325019 0.93189435 0.86240677 4.85250391]]\n",
      "[90.69695292 27.05902589 20.8752529  37.33434112]\n",
      "[21.16028475879675, 0.6033285147088722, 1.47255163078772, 7.040442181216111]\n"
     ]
    }
   ],
   "source": [
    "def Jacobi(A, b, err):\n",
    "    size = len(A)\n",
    "    iterations = 0\n",
    "    x = []\n",
    "    xPrev = []\n",
    "    bPrime = []\n",
    "#     print(A)\n",
    "#     print(b)\n",
    "    for i in range(size):\n",
    "        x.append(0)\n",
    "        xPrev.append(0)\n",
    "        bPrime.append(0)\n",
    "    maxErr = 10000000\n",
    "    while maxErr > err and iterations < 1000:\n",
    "        maxErr = 0\n",
    "        for i in range(size):\n",
    "            xPrev[i] = x[i]\n",
    "            bPrime[i] = b[i]\n",
    "            for j in range(size):\n",
    "                if i != j:\n",
    "                    bPrime[i] -= A[i][j]*xPrev[j]\n",
    "            x[i] = (bPrime[i])/A[i][i]\n",
    "            if abs(x[i]-xPrev[i]) > maxErr:\n",
    "                maxErr = abs(x[i]-xPrev[i])\n",
    "        iterations += 1\n",
    "#         print(iterations)\n",
    "#         print(x)\n",
    "    return x\n",
    "\n",
    "sol = Jacobi(C, b, 0.000001)\n",
    "print(C)\n",
    "print(b)\n",
    "print(sol)"
   ]
  },
  {
   "cell_type": "markdown",
   "metadata": {},
   "source": [
    "#### 4. (10 pts) Create a function GaussSeidel(A, b, err) which solves a system of linear equations $Ax = b$ by using Gauss-Seidel interation method. Set $x^{(0)} = \\vec{0}$. We stop the iteration when the estimation of the error $||x^{(k)} - x^{(k-1)}||_\\infty$ is less than err or $k = 1000$. (Here $x^{(k)}$ is the $k$-th output of the iteration)."
   ]
  },
  {
   "cell_type": "code",
   "execution_count": 49,
   "metadata": {},
   "outputs": [
    {
     "name": "stdout",
     "output_type": "stream",
     "text": [
      "[[4.13783224 0.20509709 0.04689382 0.41850358]\n",
      " [0.99017811 4.83702598 0.5074731  0.34670836]\n",
      " [0.51975911 0.06499233 4.54585651 0.44653201]\n",
      " [0.06325019 0.93189435 0.86240677 4.85250391]]\n",
      "[90.69695292 27.05902589 20.8752529  37.33434112]\n",
      "[21.160284677070386, 0.6033283467069862, 1.4725514902555876, 7.040442005135349]\n"
     ]
    }
   ],
   "source": [
    "def GaussSeidel(A, b, err):\n",
    "    size = len(A)\n",
    "    iterations = 0\n",
    "    x = []\n",
    "    xPrev = []\n",
    "    bPrime = []\n",
    "#     print(A)\n",
    "#     print(b)\n",
    "    for i in range(size):\n",
    "        x.append(0)\n",
    "        xPrev.append(0)\n",
    "        bPrime.append(0)\n",
    "    maxErr = 10000000\n",
    "    while maxErr > err and iterations < 1000:\n",
    "        maxErr = 0\n",
    "        for i in range(size):\n",
    "            xPrev[i] = x[i]\n",
    "            bPrime[i] = b[i]\n",
    "            for j in range(size):\n",
    "                if i != j:\n",
    "                    bPrime[i] -= A[i][j]*x[j]\n",
    "            x[i] = (bPrime[i])/A[i][i]\n",
    "            if abs(x[i]-xPrev[i]) > maxErr:\n",
    "                maxErr = abs(x[i]-xPrev[i])\n",
    "        iterations += 1\n",
    "        #print(iterations)\n",
    "        #print(x)\n",
    "    return x\n",
    "\n",
    "sol = GaussSeidel(C, b, 0.000001)\n",
    "print(C)\n",
    "print(b)\n",
    "print(sol)"
   ]
  },
  {
   "cell_type": "markdown",
   "metadata": {},
   "source": [
    "#### 5. (10 pts) For $n = 100, 200, 300, \\cdots , 1000$, create a random $n \\times n$ matrix $A$ and a random $n$-dimensional vector $b$. Solve the system of linear equations $Ax = b$ by using GaussElim(A, b), Jacobi(A, b, err), and GaussSeidel(A, b, err). Use $10^{-6}$ for the error tolerance. Record the excution time for each method. Plot the graph of the excution time for those three methods on the same plane.\n",
    "\n",
    "For the computation of the excution time, you may use the following method:"
   ]
  },
  {
   "cell_type": "code",
   "execution_count": 182,
   "metadata": {},
   "outputs": [
    {
     "name": "stdout",
     "output_type": "stream",
     "text": [
      "Matrix Size: 100\n",
      "Executing Jacobi Iteration Method ...\n",
      "Execution time: 0.12897706031799316 seconds\n",
      "Executing Gauss-Seidel Iteration Method ...\n",
      "Execution time: 0.03692793846130371 seconds\n",
      "Executing Gaussian Elimination ...\n",
      "Execution time: 0.02081894874572754 seconds\n",
      "Matrix Size: 200\n",
      "Executing Jacobi Iteration Method ...\n",
      "Execution time: 0.4698789119720459 seconds\n",
      "Executing Gauss-Seidel Iteration Method ...\n",
      "Execution time: 0.12431716918945312 seconds\n",
      "Executing Gaussian Elimination ...\n",
      "Execution time: 0.08072209358215332 seconds\n",
      "Matrix Size: 300\n",
      "Executing Jacobi Iteration Method ...\n",
      "Execution time: 1.0212092399597168 seconds\n",
      "Executing Gauss-Seidel Iteration Method ...\n",
      "Execution time: 0.3297090530395508 seconds\n",
      "Executing Gaussian Elimination ...\n",
      "Execution time: 0.19097495079040527 seconds\n",
      "Matrix Size: 400\n",
      "Executing Jacobi Iteration Method ...\n",
      "Execution time: 1.7742359638214111 seconds\n",
      "Executing Gauss-Seidel Iteration Method ...\n",
      "Execution time: 0.5238590240478516 seconds\n",
      "Executing Gaussian Elimination ...\n",
      "Execution time: 0.37570810317993164 seconds\n",
      "Matrix Size: 500\n",
      "Executing Jacobi Iteration Method ...\n",
      "Execution time: 2.5440168380737305 seconds\n",
      "Executing Gauss-Seidel Iteration Method ...\n",
      "Execution time: 0.8430790901184082 seconds\n",
      "Executing Gaussian Elimination ...\n",
      "Execution time: 0.5429990291595459 seconds\n",
      "Matrix Size: 600\n",
      "Executing Jacobi Iteration Method ...\n",
      "Execution time: 3.658182144165039 seconds\n",
      "Executing Gauss-Seidel Iteration Method ...\n",
      "Execution time: 1.1777231693267822 seconds\n",
      "Executing Gaussian Elimination ...\n",
      "Execution time: 0.8768541812896729 seconds\n",
      "Matrix Size: 700\n",
      "Executing Jacobi Iteration Method ...\n",
      "Execution time: 4.856280088424683 seconds\n",
      "Executing Gauss-Seidel Iteration Method ...\n",
      "Execution time: 1.7458019256591797 seconds\n",
      "Executing Gaussian Elimination ...\n",
      "Execution time: 1.3246049880981445 seconds\n",
      "Matrix Size: 800\n",
      "Executing Jacobi Iteration Method ...\n",
      "Execution time: 6.46624493598938 seconds\n",
      "Executing Gauss-Seidel Iteration Method ...\n",
      "Execution time: 2.1237099170684814 seconds\n",
      "Executing Gaussian Elimination ...\n",
      "Execution time: 1.6807687282562256 seconds\n",
      "Matrix Size: 900\n",
      "Executing Jacobi Iteration Method ...\n",
      "Execution time: 8.258648157119751 seconds\n",
      "Executing Gauss-Seidel Iteration Method ...\n",
      "Execution time: 2.599766731262207 seconds\n",
      "Executing Gaussian Elimination ...\n",
      "Execution time: 1.9649932384490967 seconds\n",
      "Matrix Size: 1000\n",
      "Executing Jacobi Iteration Method ...\n",
      "Execution time: 10.086935997009277 seconds\n",
      "Executing Gauss-Seidel Iteration Method ...\n",
      "Execution time: 3.123033285140991 seconds\n",
      "Executing Gaussian Elimination ...\n",
      "Execution time: 2.396928071975708 seconds\n"
     ]
    },
    {
     "data": {
      "image/png": "[encoded data removed]",
      "text/plain": [
       "<Figure size 432x288 with 1 Axes>"
      ]
     },
     "metadata": {
      "needs_background": "light"
     },
     "output_type": "display_data"
    }
   ],
   "source": [
    "import time\n",
    "import matplotlib.pyplot as plt\n",
    "\n",
    "arr = [100, 200, 300, 400, 500, 600, 700, 800, 900, 1000]\n",
    "t1 = []\n",
    "t2 = []\n",
    "t3 = []\n",
    "\n",
    "for i in range(len(arr)): \n",
    "    mat = randmat(arr[i])\n",
    "    b = randvec(arr[i])\n",
    "\n",
    "    print(\"Matrix Size:\", arr[i])\n",
    "    \n",
    "    print(\"Executing Jacobi Iteration Method ...\")\n",
    "    start = time.time()\n",
    "    Jacobi(mat,b,0.000001)\n",
    "    end = time.time()\n",
    "    t1.append(end - start)\n",
    "    print(\"Execution time:\", end - start, \"seconds\")\n",
    "\n",
    "    print(\"Executing Gauss-Seidel Iteration Method ...\")\n",
    "    start = time.time()\n",
    "    GaussSeidel(mat,b,0.000001)\n",
    "    end = time.time()\n",
    "    t2.append(end - start)\n",
    "    print(\"Execution time:\", end - start, \"seconds\")\n",
    "    \n",
    "    print(\"Executing Gaussian Elimination ...\")\n",
    "    start = time.time()\n",
    "    GaussElim(mat,b)\n",
    "    end = time.time()\n",
    "    t3.append(end-start)\n",
    "    print(\"Execution time:\", end - start,\"seconds\")\n",
    "\n",
    "plt.plot(arr, t1, label = 'Jacobi', color = 'green') \n",
    "plt.plot(arr, t2, label = 'Gauss-Seidel', color = 'blue')\n",
    "plt.plot(arr, t3, label = 'Gaussian Elimination', color = 'red')\n",
    "plt.xlabel('Matrix Size')\n",
    "plt.ylabel('Time (seconds)')\n",
    "plt.legend()\n",
    "plt.show()"
   ]
  },
  {
   "cell_type": "markdown",
   "metadata": {},
   "source": [
    "If you are interested in, then you can make a code using the \"theoretically simplest method\". For $Ax = b$, $x = A^{-1}b$. By using Gauss Elimination, you may compute $A^{-1}$ and then compute $A^{-1}b$. Recall that one can compute $A^{-1}$ as the following:\n",
    "<ul>\n",
    "    <li>Make an augmented matrix $[A | I]$ where $I$ is the $n \\times n$ identity matrix.</li>\n",
    "    <li>Apply elementary row operations until the left half $A$ on $[A| I]$ becomes $I$.</li>\n",
    "    <li>Then the right half of the augmented matrix is $A^{-1}$.</li>\n",
    "</ul>\n",
    "Compare the performance of this method with above three methods."
   ]
  },
  {
   "cell_type": "markdown",
   "metadata": {},
   "source": [
    "1. (10 pts)<br>\n",
    "2. (5 pts) The Gaussian elimination does not compute the right solution. You need to create an augmented matrix by putting b to A and then apply the row operations. (-5 pts)<br>\n",
    "3. (10 pts)<br>\n",
    "4. (10 pts)<br>\n",
    "5. (10 pts) The actual performance difference between Gaussian elimination and the interative methods will be more significant if you make a valid code for Gaussian elimination. <br>\n",
    "(10 + 5 + 10 + 10 + 10 = 45)"
   ]
  },
  {
   "cell_type": "code",
   "execution_count": null,
   "metadata": {},
   "outputs": [],
   "source": []
  }
 ],
 "metadata": {
  "kernelspec": {
   "display_name": "Python 3",
   "language": "python",
   "name": "python3"
  },
  "language_info": {
   "codemirror_mode": {
    "name": "ipython",
    "version": 3
   },
   "file_extension": ".py",
   "mimetype": "text/x-python",
   "name": "python",
   "nbconvert_exporter": "python",
   "pygments_lexer": "ipython3",
   "version": "3.7.4"
  }
 },
 "nbformat": 4,
 "nbformat_minor": 2
}
